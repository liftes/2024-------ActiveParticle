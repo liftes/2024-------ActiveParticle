{
 "cells": [
  {
   "cell_type": "code",
   "execution_count": 2,
   "metadata": {},
   "outputs": [
    {
     "name": "stderr",
     "output_type": "stream",
     "text": [
      "No artists with labels found to put in legend.  Note that artists whose label start with an underscore are ignored when legend() is called with no argument.\n"
     ]
    },
    {
     "name": "stdout",
     "output_type": "stream",
     "text": [
      "File not found: .\\Result-5\\InitLocation\\A.txt\n",
      "File not found: .\\Result-5\\InitLocation\\B.txt\n",
      "File not found: .\\Result-5\\InitLocation\\C.txt\n"
     ]
    },
    {
     "name": "stderr",
     "output_type": "stream",
     "text": [
      "No artists with labels found to put in legend.  Note that artists whose label start with an underscore are ignored when legend() is called with no argument.\n"
     ]
    },
    {
     "name": "stdout",
     "output_type": "stream",
     "text": [
      "File not found: .\\Result-6\\InitLocation\\A.txt\n",
      "File not found: .\\Result-6\\InitLocation\\B.txt\n",
      "File not found: .\\Result-6\\InitLocation\\C.txt\n"
     ]
    },
    {
     "name": "stderr",
     "output_type": "stream",
     "text": [
      "No artists with labels found to put in legend.  Note that artists whose label start with an underscore are ignored when legend() is called with no argument.\n"
     ]
    },
    {
     "name": "stdout",
     "output_type": "stream",
     "text": [
      "File not found: .\\Result-1\\FinalLocation\\A.txt\n",
      "File not found: .\\Result-1\\FinalLocation\\B.txt\n",
      "File not found: .\\Result-1\\FinalLocation\\C.txt\n"
     ]
    },
    {
     "name": "stderr",
     "output_type": "stream",
     "text": [
      "No artists with labels found to put in legend.  Note that artists whose label start with an underscore are ignored when legend() is called with no argument.\n"
     ]
    },
    {
     "name": "stdout",
     "output_type": "stream",
     "text": [
      "File not found: .\\Result-2\\FinalLocation\\A.txt\n",
      "File not found: .\\Result-2\\FinalLocation\\B.txt\n",
      "File not found: .\\Result-2\\FinalLocation\\C.txt\n"
     ]
    },
    {
     "name": "stderr",
     "output_type": "stream",
     "text": [
      "No artists with labels found to put in legend.  Note that artists whose label start with an underscore are ignored when legend() is called with no argument.\n"
     ]
    },
    {
     "name": "stdout",
     "output_type": "stream",
     "text": [
      "File not found: .\\Result-3\\FinalLocation\\A.txt\n",
      "File not found: .\\Result-3\\FinalLocation\\B.txt\n",
      "File not found: .\\Result-3\\FinalLocation\\C.txt\n"
     ]
    },
    {
     "name": "stderr",
     "output_type": "stream",
     "text": [
      "No artists with labels found to put in legend.  Note that artists whose label start with an underscore are ignored when legend() is called with no argument.\n"
     ]
    },
    {
     "name": "stdout",
     "output_type": "stream",
     "text": [
      "File not found: .\\Result-4\\FinalLocation\\A.txt\n",
      "File not found: .\\Result-4\\FinalLocation\\B.txt\n",
      "File not found: .\\Result-4\\FinalLocation\\C.txt\n"
     ]
    },
    {
     "name": "stderr",
     "output_type": "stream",
     "text": [
      "No artists with labels found to put in legend.  Note that artists whose label start with an underscore are ignored when legend() is called with no argument.\n"
     ]
    },
    {
     "name": "stdout",
     "output_type": "stream",
     "text": [
      "File not found: .\\Result-5\\FinalLocation\\A.txt\n",
      "File not found: .\\Result-5\\FinalLocation\\B.txt\n",
      "File not found: .\\Result-5\\FinalLocation\\C.txt\n"
     ]
    },
    {
     "name": "stderr",
     "output_type": "stream",
     "text": [
      "No artists with labels found to put in legend.  Note that artists whose label start with an underscore are ignored when legend() is called with no argument.\n"
     ]
    },
    {
     "name": "stdout",
     "output_type": "stream",
     "text": [
      "File not found: .\\Result-6\\FinalLocation\\A.txt\n",
      "File not found: .\\Result-6\\FinalLocation\\B.txt\n",
      "File not found: .\\Result-6\\FinalLocation\\C.txt\n"
     ]
    }
   ],
   "source": [
    "import norfetools as nt\n",
    "from norfetools import plt\n",
    "import numpy as np\n",
    "import os\n",
    "\n",
    "def read_particle_data(file_path):\n",
    "    \"\"\"读取粒子数据文件，返回x和y坐标的numpy数组\"\"\"\n",
    "    data = np.loadtxt(file_path)\n",
    "    x = data[:, 0]\n",
    "    y = data[:, 1]\n",
    "    return x, y\n",
    "\n",
    "def adjust_coordinates(x):\n",
    "    \"\"\"如果x的值大于20，则x值减去40\"\"\"\n",
    "    return np.where(x >= 20, x - 40, x)\n",
    "\n",
    "def plot_particle_data(base_path, sizes=(10, 10, 10)):\n",
    "    \"\"\"\n",
    "    从给定的基路径读取粒子数据，并绘制散点图。\n",
    "    参数:\n",
    "    base_path (str): 包含粒子数据文件的路径。\n",
    "    sizes (tuple): 每种粒子在图中显示的大小，与粒子类型顺序相对应。\n",
    "    \"\"\"\n",
    "    grid_types = {\n",
    "        1: \"SquareGrid\",\n",
    "        2: \"HexagonalGrid\",\n",
    "        3: \"RectangularGrid\",\n",
    "        4: \"CenteredRectangularGrid\",\n",
    "        5: \"SkewedGrid\",\n",
    "        6: \"RandomDistribution\"\n",
    "    }\n",
    "    for i in range(1,7):\n",
    "        particle_types = ['A', 'B', 'C']  # 粒子类型\n",
    "        colors = ['red', 'green', 'blue']  # 对应粒子类型的颜色\n",
    "        plt.figure(figsize=(2, 6))  # 设置图像大小\n",
    "        \n",
    "        for particle, color, size in zip(particle_types, colors, sizes):\n",
    "            file_path = os.path.join(base_path, 'Result-%d'%i, 'InitLocation', f'{particle}.txt')\n",
    "            if os.path.exists(file_path):\n",
    "                x, y = read_particle_data(file_path)\n",
    "                x = adjust_coordinates(x)  # 调整x坐标\n",
    "                if particle != 'B':\n",
    "                    plt.scatter(x, y, color=color, label=f'{particle}', s=size)  # 使用指定的大小\n",
    "                else:\n",
    "                    plt.scatter(x, y, color=color, s=size)  # 使用指定的大小\n",
    "            else:\n",
    "                print(f'File not found: {file_path}')\n",
    "        \n",
    "        plt.xlabel('$x$')\n",
    "        plt.ylabel('$y$')\n",
    "        # plt.title('Particle Distribution')\n",
    "        plt.legend(loc='lower center', bbox_to_anchor=(0.5, 1.0), ncol=2, fontsize = 8)\n",
    "        plt.grid(True)\n",
    "        plt.axis('equal')  # 保证x轴和y轴的比例相同\n",
    "        nt.SaveFig(1, f\"{grid_types[i]}.png\", \"Figure/Init/\")\n",
    "\n",
    "def plot_particle_data_Final(base_path, sizes=(10, 10, 10)):\n",
    "    \"\"\"\n",
    "    从给定的基路径读取粒子数据，并绘制散点图。\n",
    "    参数:\n",
    "    base_path (str): 包含粒子数据文件的路径。\n",
    "    sizes (tuple): 每种粒子在图中显示的大小，与粒子类型顺序相对应。\n",
    "    \"\"\"\n",
    "    grid_types = {\n",
    "        1: \"SquareGrid\",\n",
    "        2: \"HexagonalGrid\",\n",
    "        3: \"RectangularGrid\",\n",
    "        4: \"CenteredRectangularGrid\",\n",
    "        5: \"SkewedGrid\",\n",
    "        6: \"RandomDistribution\"\n",
    "    }\n",
    "    for i in range(1,7):\n",
    "        particle_types = ['A', 'B', 'C']  # 粒子类型\n",
    "        colors = ['red', 'green', 'blue']  # 对应粒子类型的颜色\n",
    "        plt.figure(figsize=(2, 6))  # 设置图像大小\n",
    "        \n",
    "        for particle, color, size in zip(particle_types, colors, sizes):\n",
    "            file_path = os.path.join(base_path, 'Result-%d'%i, 'FinalLocation', f'{particle}.txt')\n",
    "            if os.path.exists(file_path):\n",
    "                x, y = read_particle_data(file_path)\n",
    "                x = adjust_coordinates(x)  # 调整x坐标\n",
    "                if particle != 'B':\n",
    "                    plt.scatter(x, y, color=color, label=f'{particle}', s=size)  # 使用指定的大小\n",
    "                else:\n",
    "                    plt.scatter(x, y, color=color, s=size)  # 使用指定的大小\n",
    "            else:\n",
    "                print(f'File not found: {file_path}')\n",
    "        \n",
    "        plt.xlabel('$x$')\n",
    "        plt.ylabel('$y$')\n",
    "        # plt.title('Particle Distribution')\n",
    "        plt.legend(loc='lower center', bbox_to_anchor=(0.5, 1.0), ncol=2, fontsize = 8)\n",
    "        plt.grid(True)\n",
    "        plt.axis('equal')  # 保证x轴和y轴的比例相同\n",
    "        nt.SaveFig(1, f\"{grid_types[i]}.png\", \"Figure/Final/\")\n",
    "\n",
    "# 使用示例\n",
    "base_path = '.'  # 更换为你的目录路径\n",
    "plot_particle_data(base_path, sizes=(0.5, 4, 1))\n",
    "plot_particle_data_Final(base_path, sizes=(0.5, 4, 1))"
   ]
  },
  {
   "cell_type": "code",
   "execution_count": 14,
   "metadata": {},
   "outputs": [
    {
     "name": "stdout",
     "output_type": "stream",
     "text": [
      "6\n"
     ]
    }
   ],
   "source": [
    "import re\n",
    "\n",
    "def read_particle_counts(file_path):\n",
    "    \"\"\"\n",
    "    读取文件中粒子的个数。\n",
    "    \"\"\"\n",
    "    with open(file_path, 'r') as file:\n",
    "        lines = file.readlines()\n",
    "        return len(lines)\n",
    "\n",
    "def read_all_particle_positions(file_path):\n",
    "    \"\"\"\n",
    "    从文件中读取所有粒子的位置。\n",
    "    \"\"\"\n",
    "    positions = []\n",
    "    with open(file_path, 'r') as file:\n",
    "        for line in file:\n",
    "            x, y = map(float, line.strip().split())\n",
    "            positions.append((x, y))\n",
    "    return positions\n",
    "\n",
    "def find_max_index(base_path):\n",
    "    \"\"\"\n",
    "    在指定路径下查找符合 'pxxxx.dat' 格式的文件，并返回最大的xxxx值。\n",
    "    \n",
    "    参数:\n",
    "    base_path (str): 文件所在的目录路径。\n",
    "    \n",
    "    返回:\n",
    "    int: 找到的最大的xxxx值。如果没有找到符合条件的文件，返回-1。\n",
    "    \"\"\"\n",
    "    max_index = -1\n",
    "    pattern = re.compile(r'^p(\\d{4})\\.dat$')\n",
    "\n",
    "    # 遍历给定路径下的所有文件\n",
    "    for filename in os.listdir(base_path):\n",
    "        match = pattern.match(filename)\n",
    "        if match:\n",
    "            index = int(match.group(1))\n",
    "            if index > max_index:\n",
    "                max_index = index\n",
    "\n",
    "    return max_index\n",
    "\n",
    "def plot_particle_data(i0, start_i , end_i , base_path, sizes=(10, 10, 10)):\n",
    "    \"\"\"\n",
    "    从给定的基路径读取粒子数据，并绘制散点图。\n",
    "    参数:\n",
    "    base_path (str): 包含粒子数据文件的路径。\n",
    "    sizes (tuple): 每种粒子在图中显示的大小，与粒子类型顺序相对应。\n",
    "    \"\"\"\n",
    "    grid_types = {\n",
    "        1: \"SquareGrid\",\n",
    "        2: \"HexagonalGrid\",\n",
    "        3: \"RectangularGrid\",\n",
    "        4: \"CenteredRectangularGrid\",\n",
    "        5: \"SkewedGrid\",\n",
    "        6: \"RandomDistribution\"\n",
    "    }\n",
    "    \n",
    "    particle_types = ['A', 'B', 'C']  # 粒子类型\n",
    "    colors = ['red', 'green', 'blue']  # 对应粒子类型的颜色\n",
    "    counts = []\n",
    "    \n",
    "    # 读取每种粒子的个数\n",
    "    for particle in particle_types:\n",
    "        file_path = os.path.join(base_path, f'Result-{i0}', 'InitLocation', f'{particle}.txt')\n",
    "        count = read_particle_counts(file_path)\n",
    "        counts.append(count)\n",
    "    \n",
    "    # 读取所有粒子的位置\n",
    "    num = find_max_index(f'Result-{i0}/ProcessLocation/')\n",
    "    if num < end_i:\n",
    "        end_i = num\n",
    "    for index in range(start_i, end_i):\n",
    "        all_positions_file = os.path.join(base_path, f'Result-{i0}', 'ProcessLocation', f'p{index:04d}.dat')\n",
    "        all_positions = read_all_particle_positions(all_positions_file)\n",
    "        all_positions = np.array(all_positions)\n",
    "        all_positions[0,:] = adjust_coordinates(all_positions[0,:])  # 调整x坐标\n",
    "        \n",
    "        # 绘制图像\n",
    "        start_index = 0\n",
    "        plt.figure(figsize=(2, 6))\n",
    "        for particle, color, size, count in zip(particle_types, colors, sizes, counts):\n",
    "            end_index = start_index + count\n",
    "            x, y = zip(*all_positions[start_index:end_index])\n",
    "            x = adjust_coordinates(np.array(x))\n",
    "            plt.scatter(x, y, color=color, label=f'{particle}', s=size)\n",
    "            start_index = end_index\n",
    "\n",
    "        plt.xlabel('$x$')\n",
    "        plt.ylabel('$y$')\n",
    "        plt.legend(loc='upper right')\n",
    "        plt.grid(True)\n",
    "        plt.axis('equal')\n",
    "        nt.SaveFig(1, f\"{index:04d}.png\", f\"Figure/Process/{grid_types[i0]}/\")\n",
    "        # plt.show()\n",
    "\n",
    "plot_particle_data(1, 0, 3 , base_path, sizes=(0.5, 4, 1))"
   ]
  }
 ],
 "metadata": {
  "kernelspec": {
   "display_name": "py3.9",
   "language": "python",
   "name": "python3"
  },
  "language_info": {
   "codemirror_mode": {
    "name": "ipython",
    "version": 3
   },
   "file_extension": ".py",
   "mimetype": "text/x-python",
   "name": "python",
   "nbconvert_exporter": "python",
   "pygments_lexer": "ipython3",
   "version": "3.9.18"
  }
 },
 "nbformat": 4,
 "nbformat_minor": 2
}
